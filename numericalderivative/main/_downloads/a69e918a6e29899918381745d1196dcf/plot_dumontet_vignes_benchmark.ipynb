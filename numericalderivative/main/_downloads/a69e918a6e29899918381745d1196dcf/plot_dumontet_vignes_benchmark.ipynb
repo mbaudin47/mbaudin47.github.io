{
  "cells": [
    {
      "cell_type": "markdown",
      "metadata": {},
      "source": [
        "\n# Benchmark Dumontet & Vignes method\n\nThe goal of this example is to benchmark the :class:`~numericalderivative.DumontetVignes`\non a collection of test problems.\nThese problems are created by the :meth:`~numericalderivative.build_benchmark()` \nstatic method, which returns a list of problems.\n\n## References\n- Dumontet, J., & Vignes, J. (1977). D\u00e9termination du pas optimal dans le calcul des d\u00e9riv\u00e9es sur ordinateur. RAIRO. Analyse num\u00e9rique, 11 (1), 13-25.\n"
      ]
    },
    {
      "cell_type": "code",
      "execution_count": null,
      "metadata": {
        "collapsed": false
      },
      "outputs": [],
      "source": [
        "import numpy as np\nimport tabulate\nimport numericalderivative as nd"
      ]
    },
    {
      "cell_type": "markdown",
      "metadata": {},
      "source": [
        "The next class benchmarks the (Dumontet & Vignes, 1977) algorithm\non a given problem and a collection of test points.\n\n"
      ]
    },
    {
      "cell_type": "code",
      "execution_count": null,
      "metadata": {
        "collapsed": false
      },
      "outputs": [],
      "source": [
        "class DumontetVignesMethod:\n    def __init__(self, relative_precision, kmin, kmax):\n        \"\"\"\n        Create a Dumontet & Vignes method to compute the approximate first derivative\n\n        Parameters\n        ----------\n        relative_precision : float, > 0, optional\n            The relative precision of evaluation of f.\n        kmin : float, kmin > 0\n            A minimum bound for the finite difference step of the third derivative.\n            If no value is provided, the default is to compute the smallest\n            possible kmin using number_of_digits and x.\n        kmax : float, kmax > kmin > 0\n            A maximum bound for the finite difference step of the third derivative.\n            If no value is provided, the default is to compute the largest\n            possible kmax using number_of_digits and x.\n        \"\"\"\n        self.relative_precision = relative_precision\n        self.kmin = kmin\n        self.kmax = kmax\n\n    def compute_first_derivative(self, function, x):\n        \"\"\"\n        Compute the first derivative using Dumontet & Vignes\n\n        Parameters\n        ----------\n        function : function\n            The function\n        x : float\n            The test point\n\n        Returns\n        -------\n        f_prime_approx : float\n            The approximate value of the first derivative of the function at point x\n        number_of_function_evaluations : int\n            The number of function evaluations.\n        \"\"\"\n        algorithm = nd.DumontetVignes(\n            function,\n            x,\n            relative_precision=self.relative_precision,\n        )\n        step, _ = algorithm.compute_step(kmin=self.kmin, kmax=self.kmax)\n        f_prime_approx = algorithm.compute_first_derivative(step)\n        number_of_function_evaluations = algorithm.get_number_of_function_evaluations()\n        return f_prime_approx, number_of_function_evaluations"
      ]
    },
    {
      "cell_type": "markdown",
      "metadata": {},
      "source": [
        "The next example computes the approximate derivative on the\n:class:`~numericalderivative.ExponentialProblem` on a set of points.\n\n"
      ]
    },
    {
      "cell_type": "code",
      "execution_count": null,
      "metadata": {
        "collapsed": false
      },
      "outputs": [],
      "source": [
        "number_of_test_points = 20\nproblem = nd.ExponentialProblem()\ninterval = problem.get_interval()\ntest_points = np.linspace(interval[0], interval[1], number_of_test_points)\nkmin = 1.0e-9\nkmax = 1.0e0\nrelative_precision = 1.0e-14\nmethod = DumontetVignesMethod(relative_precision, kmin, kmax)\naverage_relative_error, average_feval, data = nd.benchmark_method(\n    problem.get_function(),\n    problem.get_first_derivative(),\n    test_points,\n    method.compute_first_derivative,\n    verbose=False,\n)\nprint(\"Average rel. error =\", average_relative_error)\nprint(\"Average number of function evaluations =\", average_feval)\ntabulate.tabulate(data, headers=[\"x\", \"Rel. err.\", \"F. Eval.\"], tablefmt=\"html\")"
      ]
    },
    {
      "cell_type": "markdown",
      "metadata": {},
      "source": [
        "Map from the problem name to kmax\n\n"
      ]
    },
    {
      "cell_type": "code",
      "execution_count": null,
      "metadata": {
        "collapsed": false
      },
      "outputs": [],
      "source": [
        "kmax_map = {\n    \"polynomial\": 1.0,\n    \"inverse\": 1.0e0,\n    \"exp\": 1.0e-1,\n    \"log\": 1.0e-3,  # x > 0\n    \"sqrt\": 1.0e-3,  # x > 0\n    \"atan\": 1.0e0,\n    \"sin\": 1.0e0,\n    \"scaled exp\": 1.0e5,\n    \"GMSW\": 1.0e0,\n    \"SXXN1\": 1.0e0,\n    \"SXXN2\": 1.0e0,  # Fails\n    \"SXXN3\": 1.0e0,\n    \"SXXN4\": 1.0e0,\n    \"Oliver1\": 1.0e0,\n    \"Oliver2\": 1.0e0,\n    \"Oliver3\": 1.0e-3,\n}"
      ]
    },
    {
      "cell_type": "markdown",
      "metadata": {},
      "source": [
        "Benchmark the :class:`~numericalderivative.DumontetVignes` class\non a collection of problems.\n\n"
      ]
    },
    {
      "cell_type": "code",
      "execution_count": null,
      "metadata": {
        "collapsed": false
      },
      "outputs": [],
      "source": [
        "number_of_test_points = 100\nrelative_precision = 1.0e-14\ndata = []\nfunction_list = nd.build_benchmark()\nnumber_of_functions = len(function_list)\naverage_relative_error_list = []\naverage_feval_list = []\nfor i in range(number_of_functions):\n    problem = function_list[i]\n    name = problem.get_name()\n    kmax = kmax_map[name]\n    kmin = 1.0e-16 * kmax\n    function = problem.get_function()\n    first_derivative = problem.get_first_derivative()\n    interval = problem.get_interval()\n    test_points = np.linspace(interval[0], interval[1], number_of_test_points)\n    print(f\"Function #{i}, {name}\")\n    if name == \"polynomial\":\n        # Skip this problem (see below)\n        continue\n    method = DumontetVignesMethod(relative_precision, kmin, kmax)\n    average_relative_error, average_feval, _ = nd.benchmark_method(\n        function,\n        first_derivative,\n        test_points,\n        method.compute_first_derivative,\n        verbose=False,\n    )\n    average_relative_error_list.append(average_relative_error)\n    average_feval_list.append(average_feval)\n    data.append(\n        (\n            name,\n            kmin,\n            kmax,\n            average_relative_error,\n            average_feval,\n        )\n    )\ndata.append(\n    [\n        \"Average\",\n        \"-\",\n        \"-\",\n        np.nanmean(average_relative_error_list),\n        np.nanmean(average_feval_list),\n    ]\n)\n\ntabulate.tabulate(\n    data,\n    headers=[\"Name\", \"kmin\", \"kmax\", \"Average rel. error\", \"Average func. eval\"],\n    tablefmt=\"html\",\n)"
      ]
    },
    {
      "cell_type": "markdown",
      "metadata": {},
      "source": [
        "Notice that the method does not perform correctly for the :class:`~numericalderivative.PolynomialProblem`.\nIndeed, this function as a zero third derivative.\nThis produces a L ratio which is negative, so that there is no value of the\nstep $k$ such that the condition is satisfied.\n\n"
      ]
    }
  ],
  "metadata": {
    "kernelspec": {
      "display_name": "Python 3",
      "language": "python",
      "name": "python3"
    },
    "language_info": {
      "codemirror_mode": {
        "name": "ipython",
        "version": 3
      },
      "file_extension": ".py",
      "mimetype": "text/x-python",
      "name": "python",
      "nbconvert_exporter": "python",
      "pygments_lexer": "ipython3",
      "version": "3.13.1"
    }
  },
  "nbformat": 4,
  "nbformat_minor": 0
}