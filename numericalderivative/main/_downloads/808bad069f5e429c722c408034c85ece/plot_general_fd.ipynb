{
  "cells": [
    {
      "cell_type": "markdown",
      "metadata": {},
      "source": [
        "\n# Use the generalized finite differences formulas\n\nThis example shows how to use generalized finite difference (F.D.) formulas.\n\n## References\n- M. Baudin (2023). M\u00e9thodes num\u00e9riques. Dunod.\n"
      ]
    },
    {
      "cell_type": "code",
      "execution_count": null,
      "metadata": {
        "collapsed": false
      },
      "outputs": [],
      "source": [
        "import numericalderivative as nd\nimport numpy as np\nimport pylab as pl\nimport matplotlib.colors as mcolors\nimport tabulate"
      ]
    },
    {
      "cell_type": "markdown",
      "metadata": {},
      "source": [
        "## Compute the first derivative using forward F.D. formula\n\n"
      ]
    },
    {
      "cell_type": "markdown",
      "metadata": {},
      "source": [
        "This is the function we want to compute the derivative of.\n\n"
      ]
    },
    {
      "cell_type": "code",
      "execution_count": null,
      "metadata": {
        "collapsed": false
      },
      "outputs": [],
      "source": [
        "def scaled_exp(x):\n    alpha = 1.0e6\n    return np.exp(-x / alpha)"
      ]
    },
    {
      "cell_type": "markdown",
      "metadata": {},
      "source": [
        "Use the F.D. formula for f'(x)\n\n"
      ]
    },
    {
      "cell_type": "code",
      "execution_count": null,
      "metadata": {
        "collapsed": false
      },
      "outputs": [],
      "source": [
        "x = 1.0\ndifferentiation_order = 1\nformula_accuracy = 2\nfinite_difference = nd.GeneralFiniteDifference(\n    scaled_exp, x, differentiation_order, formula_accuracy, \"central\"\n)\nstep = 1.0e-3  # A first guess\nf_prime_approx = finite_difference.compute(step)\nprint(f\"Approximate f'(x) = {f_prime_approx}\")"
      ]
    },
    {
      "cell_type": "markdown",
      "metadata": {},
      "source": [
        "To check our result, we define the exact first derivative.\n\n"
      ]
    },
    {
      "cell_type": "code",
      "execution_count": null,
      "metadata": {
        "collapsed": false
      },
      "outputs": [],
      "source": [
        "def scaled_exp_prime(x):\n    alpha = 1.0e6\n    return -np.exp(-x / alpha) / alpha"
      ]
    },
    {
      "cell_type": "markdown",
      "metadata": {},
      "source": [
        "Compute the exact derivative and the absolute error.\n\n"
      ]
    },
    {
      "cell_type": "code",
      "execution_count": null,
      "metadata": {
        "collapsed": false
      },
      "outputs": [],
      "source": [
        "f_prime_exact = scaled_exp_prime(x)\nprint(f\"Exact f'(x) = {f_prime_exact}\")\nabsolute_error = abs(f_prime_approx - f_prime_exact)\nprint(f\"Absolute error = {absolute_error}\")"
      ]
    },
    {
      "cell_type": "markdown",
      "metadata": {},
      "source": [
        "Define the error function: this will be useful later.\n\n"
      ]
    },
    {
      "cell_type": "code",
      "execution_count": null,
      "metadata": {
        "collapsed": false
      },
      "outputs": [],
      "source": [
        "def compute_absolute_error(\n    step,\n    x=1.0,\n    differentiation_order=1,\n    formula_accuracy=2,\n    direction=\"central\",\n    verbose=True,\n):\n    finite_difference = nd.GeneralFiniteDifference(\n        scaled_exp, x, differentiation_order, formula_accuracy, direction\n    )\n    f_prime_approx = finite_difference.compute(step)\n    f_prime_exact = scaled_exp_prime(x)\n    absolute_error = abs(f_prime_approx - f_prime_exact)\n    if verbose:\n        print(f\"Approximate f'(x) = {f_prime_approx}\")\n        print(f\"Exact f'(x) = {f_prime_exact}\")\n        print(f\"Absolute error = {absolute_error}\")\n    return absolute_error"
      ]
    },
    {
      "cell_type": "markdown",
      "metadata": {},
      "source": [
        "## Compute the exact step for the forward F.D. formula\n\n"
      ]
    },
    {
      "cell_type": "markdown",
      "metadata": {},
      "source": [
        "This step depends on the second derivative.\nFirstly, we assume that this is unknown and use a first\nguess of it, equal to 1.\n\n"
      ]
    },
    {
      "cell_type": "code",
      "execution_count": null,
      "metadata": {
        "collapsed": false
      },
      "outputs": [],
      "source": [
        "differentiation_order = 1\nformula_accuracy = 2\ndirection = \"central\"\nfinite_difference = nd.GeneralFiniteDifference(\n    scaled_exp, x, differentiation_order, formula_accuracy, direction\n)\nsecond_derivative_value = 1.0  # A first guess\nstep, absolute_error = finite_difference.compute_step(second_derivative_value)\nprint(f\"Approximately optimal step (using f''(x) = 1) = {step}\")\nprint(f\"Approximately absolute error = {absolute_error}\")\n_ = compute_absolute_error(step, True)"
      ]
    },
    {
      "cell_type": "markdown",
      "metadata": {},
      "source": [
        "We see that the new step is much better than the our initial guess:\nthe approximately optimal step is much smaller, which leads to a smaller\nabsolute error.\n\n"
      ]
    },
    {
      "cell_type": "markdown",
      "metadata": {},
      "source": [
        "In our particular example, the second derivative is known: let's use\nthis information and compute the exactly optimal step.\n\n"
      ]
    },
    {
      "cell_type": "code",
      "execution_count": null,
      "metadata": {
        "collapsed": false
      },
      "outputs": [],
      "source": [
        "def scaled_exp_2nd_derivative(x):\n    alpha = 1.0e6\n    return np.exp(-x / alpha) / (alpha**2)"
      ]
    },
    {
      "cell_type": "code",
      "execution_count": null,
      "metadata": {
        "collapsed": false
      },
      "outputs": [],
      "source": [
        "second_derivative_value = scaled_exp_2nd_derivative(x)\nprint(f\"Exact second derivative f''(x) = {second_derivative_value}\")\nstep, absolute_error = finite_difference.compute_step(second_derivative_value)\nprint(f\"Approximately optimal step (using f''(x) = 1) = {step}\")\nprint(f\"Approximately absolute error = {absolute_error}\")\n_ = compute_absolute_error(step, True)"
      ]
    },
    {
      "cell_type": "markdown",
      "metadata": {},
      "source": [
        "## Compute the coefficients of several central F.D. formulas\n\n"
      ]
    },
    {
      "cell_type": "markdown",
      "metadata": {},
      "source": [
        "We would like to compute the coefficients of a collection of central\nfinite difference formulas.\n\n"
      ]
    },
    {
      "cell_type": "markdown",
      "metadata": {},
      "source": [
        "We consider the differentation order up to the sixth derivative\nand the central F.D. formula up to the order 8.\n\n"
      ]
    },
    {
      "cell_type": "code",
      "execution_count": null,
      "metadata": {
        "collapsed": false
      },
      "outputs": [],
      "source": [
        "maximum_differentiation_order = 6\nformula_accuracy_list = [2, 4, 6, 8]"
      ]
    },
    {
      "cell_type": "markdown",
      "metadata": {},
      "source": [
        "We want to the print the result as a table.\nThis is the reason why we need to align the coefficients on the\ncolumns on the table.\n\n"
      ]
    },
    {
      "cell_type": "markdown",
      "metadata": {},
      "source": [
        "First pass: compute the maximum number of coefficients.\n\n"
      ]
    },
    {
      "cell_type": "code",
      "execution_count": null,
      "metadata": {
        "collapsed": false
      },
      "outputs": [],
      "source": [
        "maximum_number_of_coefficients = 0\ndirection = \"central\"\ncoefficients_list = []\nfor differentiation_order in range(1, 1 + maximum_differentiation_order):\n    for formula_accuracy in formula_accuracy_list:\n        finite_difference = nd.GeneralFiniteDifference(\n            scaled_exp, x, differentiation_order, formula_accuracy, direction\n        )\n        coefficients = finite_difference.get_coefficients()\n        coefficients_list.append(coefficients)\n        maximum_number_of_coefficients = max(\n            maximum_number_of_coefficients, len(coefficients)\n        )"
      ]
    },
    {
      "cell_type": "markdown",
      "metadata": {},
      "source": [
        "Second pass: compute the maximum number of coefficients\n\n"
      ]
    },
    {
      "cell_type": "code",
      "execution_count": null,
      "metadata": {
        "collapsed": false
      },
      "outputs": [],
      "source": [
        "data = []\nindex = 0\nfor differentiation_order in range(1, 1 + maximum_differentiation_order):\n    for formula_accuracy in formula_accuracy_list:\n        coefficients = coefficients_list[index]\n        row = [differentiation_order, formula_accuracy]\n        padding_number = maximum_number_of_coefficients // 2 - len(coefficients) // 2\n        for i in range(padding_number):\n            row.append(\"\")\n        for i in range(len(coefficients)):\n            row.append(f\"{coefficients[i]:.3f}\")\n        data.append(row)\n        index += 1"
      ]
    },
    {
      "cell_type": "code",
      "execution_count": null,
      "metadata": {
        "collapsed": false
      },
      "outputs": [],
      "source": [
        "headers = [\"Derivative\", \"Accuracy\"]\nfor i in range(1 + maximum_number_of_coefficients):\n    headers.append(i - maximum_number_of_coefficients // 2)\ntabulate.tabulate(data, headers, tablefmt=\"html\")"
      ]
    },
    {
      "cell_type": "markdown",
      "metadata": {},
      "source": [
        "We notice that the sum of the coefficients is zero.\nFurthermore, consider the properties of the coefficients with respect to the\ncenter coefficient of index $i = 0$.\n\n- If the differentiation order $d$ is odd (e.g. $d = 3$),\n  then the symetrical coefficients are of opposite signs.\n  In this case, $c_0 = 0$.\n- If the differentiation order $d$ is even (e.g. $d = 4$),\n  then the symetrical coefficients are equal.\n\n"
      ]
    },
    {
      "cell_type": "markdown",
      "metadata": {},
      "source": [
        "Make a plot of the coefficients depending on the indices.\n\n"
      ]
    },
    {
      "cell_type": "code",
      "execution_count": null,
      "metadata": {
        "collapsed": false
      },
      "outputs": [],
      "source": [
        "maximum_differentiation_order = 4\nformula_accuracy_list = [2, 4, 6]\ndirection = \"central\"\ncolor_list = list(mcolors.TABLEAU_COLORS.keys())\nmarker_list = [\"o\", \"v\", \"^\", \"<\", \">\"]\npl.figure()\npl.title(\"Central finite difference\")\nfor differentiation_order in range(1, 1 + maximum_differentiation_order):\n    for j in range(len(formula_accuracy_list)):\n        finite_difference = nd.GeneralFiniteDifference(\n            scaled_exp, x, differentiation_order, formula_accuracy_list[j], direction\n        )\n        coefficients = finite_difference.get_coefficients()\n        imin, imax = finite_difference.get_indices_min_max()\n        this_label = (\n            r\"$d = \"\n            f\"{differentiation_order}\"\n            r\"$, $p = \"\n            f\"{formula_accuracy_list[j]}\"\n            r\"$\"\n        )\n        this_color = color_list[differentiation_order]\n        this_marker = marker_list[j]\n        pl.plot(\n            range(imin, imax + 1),\n            coefficients,\n            \"-\" + this_marker,\n            color=this_color,\n            label=this_label,\n        )\npl.xlabel(r\"$i$\")\npl.ylabel(r\"$c_i$\")\npl.legend(bbox_to_anchor=(1, 1))\npl.tight_layout()"
      ]
    },
    {
      "cell_type": "markdown",
      "metadata": {},
      "source": [
        "## Compute the coefficients of several forward F.D. formulas\n\n"
      ]
    },
    {
      "cell_type": "markdown",
      "metadata": {},
      "source": [
        "We would like to compute the coefficients of a collection of forward\nfinite difference formulas.\n\n"
      ]
    },
    {
      "cell_type": "markdown",
      "metadata": {},
      "source": [
        "We consider the differentation order up to the sixth derivative\nand the forward F.D. formula up to the order 8.\n\n"
      ]
    },
    {
      "cell_type": "code",
      "execution_count": null,
      "metadata": {
        "collapsed": false
      },
      "outputs": [],
      "source": [
        "maximum_differentiation_order = 6\nformula_accuracy_list = list(range(1, 8))"
      ]
    },
    {
      "cell_type": "markdown",
      "metadata": {},
      "source": [
        "We want to the print the result as a table.\nThis is the reason why we need to align the coefficients on the\ncolumns on the table.\n\n"
      ]
    },
    {
      "cell_type": "markdown",
      "metadata": {},
      "source": [
        "First pass: compute the maximum number of coefficients.\n\n"
      ]
    },
    {
      "cell_type": "code",
      "execution_count": null,
      "metadata": {
        "collapsed": false
      },
      "outputs": [],
      "source": [
        "maximum_number_of_coefficients = 0\ndirection = \"forward\"\ndata = []\nfor differentiation_order in range(1, 1 + maximum_differentiation_order):\n    for formula_accuracy in formula_accuracy_list:\n        finite_difference = nd.GeneralFiniteDifference(\n            scaled_exp, x, differentiation_order, formula_accuracy, direction\n        )\n        coefficients = finite_difference.get_coefficients()\n        maximum_number_of_coefficients = max(\n            maximum_number_of_coefficients, len(coefficients)\n        )\n        row = [differentiation_order, formula_accuracy]\n        for i in range(len(coefficients)):\n            row.append(f\"{coefficients[i]:.3f}\")\n        data.append(row)\n        index += 1"
      ]
    },
    {
      "cell_type": "code",
      "execution_count": null,
      "metadata": {
        "collapsed": false
      },
      "outputs": [],
      "source": [
        "headers = [\"Derivative\", \"Accuracy\"]\nfor i in range(1 + maximum_number_of_coefficients):\n    headers.append(i)\ntabulate.tabulate(data, headers, tablefmt=\"html\")"
      ]
    },
    {
      "cell_type": "markdown",
      "metadata": {},
      "source": [
        "We notice that the sum of the coefficients is zero.\n\n"
      ]
    },
    {
      "cell_type": "markdown",
      "metadata": {},
      "source": [
        "Make a plot of the coefficients depending on the indices.\n\n"
      ]
    },
    {
      "cell_type": "code",
      "execution_count": null,
      "metadata": {
        "collapsed": false
      },
      "outputs": [],
      "source": [
        "maximum_differentiation_order = 4\nformula_accuracy_list = [2, 4, 6]\ndirection = \"forward\"\ncolor_list = list(mcolors.TABLEAU_COLORS.keys())\nmarker_list = [\"o\", \"v\", \"^\", \"<\", \">\"]\npl.figure()\npl.title(\"Forward finite difference\")\nfor differentiation_order in range(1, 1 + maximum_differentiation_order):\n    for j in range(len(formula_accuracy_list)):\n        finite_difference = nd.GeneralFiniteDifference(\n            scaled_exp, x, differentiation_order, formula_accuracy_list[j], direction\n        )\n        coefficients = finite_difference.get_coefficients()\n        imin, imax = finite_difference.get_indices_min_max()\n        this_label = (\n            r\"$d = \"\n            f\"{differentiation_order}\"\n            r\"$, $p = \"\n            f\"{formula_accuracy_list[j]}\"\n            r\"$\"\n        )\n        this_color = color_list[differentiation_order]\n        this_marker = marker_list[j]\n        pl.plot(\n            range(imin, imax + 1),\n            coefficients,\n            \"-\" + this_marker,\n            color=this_color,\n            label=this_label,\n        )\npl.xlabel(r\"$i$\")\npl.ylabel(r\"$c_i$\")\n_ = pl.legend(bbox_to_anchor=(1, 1))\npl.tight_layout()"
      ]
    }
  ],
  "metadata": {
    "kernelspec": {
      "display_name": "Python 3",
      "language": "python",
      "name": "python3"
    },
    "language_info": {
      "codemirror_mode": {
        "name": "ipython",
        "version": 3
      },
      "file_extension": ".py",
      "mimetype": "text/x-python",
      "name": "python",
      "nbconvert_exporter": "python",
      "pygments_lexer": "ipython3",
      "version": "3.13.1"
    }
  },
  "nbformat": 4,
  "nbformat_minor": 0
}