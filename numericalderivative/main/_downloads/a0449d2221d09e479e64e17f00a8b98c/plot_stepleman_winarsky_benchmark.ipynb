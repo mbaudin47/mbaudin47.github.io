{
  "cells": [
    {
      "cell_type": "markdown",
      "metadata": {},
      "source": [
        "\n# Benchmark Stepleman & Winarsky's method\n\nThe goal of this example is to benchmark the :class:`~numericalderivative.SteplemanWinarsky`\nclass on a collection of test problems.\nThese problems are created by the :meth:`~numericalderivative.build_benchmark()` \nstatic method, which returns a list of problems.\n\n## References\n- Adaptive numerical differentiation\n  R. S. Stepleman and N. D. Winarsky\n  Journal: Math. Comp. 33 (1979), 1257-1264 \n"
      ]
    },
    {
      "cell_type": "code",
      "execution_count": null,
      "metadata": {
        "collapsed": false
      },
      "outputs": [],
      "source": [
        "import numpy as np\nimport pylab as pl\nimport tabulate\nimport numericalderivative as nd"
      ]
    },
    {
      "cell_type": "markdown",
      "metadata": {},
      "source": [
        "## Compute the first derivative\n\n"
      ]
    },
    {
      "cell_type": "markdown",
      "metadata": {},
      "source": [
        "The next function computes the approximate first derivative from finite\ndifferences using Stepleman & Winarsky's method.\n\n"
      ]
    },
    {
      "cell_type": "code",
      "execution_count": null,
      "metadata": {
        "collapsed": false
      },
      "outputs": [],
      "source": [
        "class SteplemanWinarskyMethod:\n    def __init__(self, initial_step):\n        \"\"\"\n        Create a SteplemanWinarsky method to compute the approximate first derivative\n\n        Parameters\n        ----------\n        initial_step : float, > 0\n            A initial step.\n        \"\"\"\n        self.initial_step = initial_step\n\n    def compute_first_derivative(self, function, x):\n        \"\"\"\n        Compute the first derivative using SteplemanWinarsky\n\n        Parameters\n        ----------\n        function : function\n            The function\n        x : float\n            The test point\n\n        Returns\n        -------\n        f_prime_approx : float\n            The approximate value of the first derivative of the function at point x\n        number_of_function_evaluations : int\n            The number of function evaluations.\n        \"\"\"\n        algorithm = nd.SteplemanWinarsky(function, x)\n        step, _ = algorithm.compute_step(\n            self.initial_step,\n        )\n        f_prime_approx = algorithm.compute_first_derivative(step)\n        number_of_function_evaluations = algorithm.get_number_of_function_evaluations()\n        return f_prime_approx, number_of_function_evaluations"
      ]
    },
    {
      "cell_type": "markdown",
      "metadata": {},
      "source": [
        "The next script is a simple use of the :class:`~numericalderivative.SteplemanWinarsky` class.\n\n"
      ]
    },
    {
      "cell_type": "code",
      "execution_count": null,
      "metadata": {
        "collapsed": false
      },
      "outputs": [],
      "source": [
        "problem = nd.ExponentialProblem()\nprint(problem)\nfunction = problem.get_function()\nx = problem.get_x()\nalgorithm = nd.SteplemanWinarsky(\n    function,\n    x,\n    verbose=True,\n)\nthird_derivative = problem.get_third_derivative()\nthird_derivative_value = third_derivative(x)\noptimal_step, absolute_error = nd.FirstDerivativeCentral.compute_step(\n    third_derivative_value\n)\nprint(\"Exact h* = %.3e\" % (optimal_step))\n\nh0, iterations = algorithm.search_step_with_bisection(\n    1.0e-7,\n    1.0e1,\n)\nprint(\"Pas initial = \", h0, \", iterations = \", iterations)\nlost_digits = algorithm.number_of_lost_digits(h0)\nprint(\"lost_digits = \", lost_digits)\ninitial_step = 1.0e1\nfunction = problem.get_function()\nfirst_derivative = problem.get_first_derivative()\nx = 1.0\nmethod = SteplemanWinarskyMethod(initial_step)\nf_prime_approx, number_of_function_evaluations = method.compute_first_derivative(\n    function, x\n)\nf_prime_exact = first_derivative(x)\nabsolute_error = abs(f_prime_approx - f_prime_exact)\nprint(\n    \"x = %.3f, error = %.3e, Func. eval. = %d\"\n    % (x, absolute_error, number_of_function_evaluations)\n)"
      ]
    },
    {
      "cell_type": "markdown",
      "metadata": {},
      "source": [
        "## Perform the benchmark\n\n"
      ]
    },
    {
      "cell_type": "markdown",
      "metadata": {},
      "source": [
        "The next example computes the approximate derivative on the\n:class:`~numericalderivative.ExponentialProblem` on a set of points.\n\n"
      ]
    },
    {
      "cell_type": "code",
      "execution_count": null,
      "metadata": {
        "collapsed": false
      },
      "outputs": [],
      "source": [
        "number_of_test_points = 20\ninitial_step = 1.0e-1\nproblem = nd.ExponentialProblem()\nfunction = problem.get_function()\nfirst_derivative = problem.get_first_derivative()\ninterval = problem.get_interval()\ntest_points = np.linspace(interval[0], interval[1], number_of_test_points)\nmethod = SteplemanWinarskyMethod(initial_step)\naverage_relative_error, average_feval, data = nd.benchmark_method(\n    function, first_derivative, test_points, method.compute_first_derivative, True\n)\nprint(\"Average error =\", average_relative_error)\nprint(\"Average number of function evaluations =\", average_feval)\ntabulate.tabulate(data, headers=[\"x\", \"Rel. err.\", \"F. Eval.\"], tablefmt=\"html\")"
      ]
    },
    {
      "cell_type": "markdown",
      "metadata": {},
      "source": [
        "Map from the problem name to the initial step.\n\n"
      ]
    },
    {
      "cell_type": "code",
      "execution_count": null,
      "metadata": {
        "collapsed": false
      },
      "outputs": [],
      "source": [
        "initial_step_map = {\n    \"polynomial\": 1.0,\n    \"inverse\": 1.0e-3,\n    \"exp\": 1.0e-1,\n    \"log\": 1.0e-3,  # x > 0\n    \"sqrt\": 1.0e-3,  # x > 0\n    \"atan\": 1.0e0,\n    \"sin\": 1.0e0,\n    \"scaled exp\": 1.0e5,\n    \"GMSW\": 1.0e0,\n    \"SXXN1\": 1.0e0,\n    \"SXXN2\": 1.0e0,\n    \"SXXN3\": 1.0e0,\n    \"SXXN4\": 1.0e0,\n    \"Oliver1\": 1.0e0,\n    \"Oliver2\": 1.0e0,\n    \"Oliver3\": 1.0e-3,\n}"
      ]
    },
    {
      "cell_type": "markdown",
      "metadata": {},
      "source": [
        "The next script evaluates a collection of benchmark problems\nusing the :class:`~numericalderivative.SteplemanWinarsky` class.\n\n"
      ]
    },
    {
      "cell_type": "code",
      "execution_count": null,
      "metadata": {
        "collapsed": false
      },
      "outputs": [],
      "source": [
        "number_of_test_points = 100\ndata = []\nfunction_list = nd.build_benchmark()\nnumber_of_functions = len(function_list)\naverage_relative_error_list = []\naverage_feval_list = []\nfor i in range(number_of_functions):\n    problem = function_list[i]\n    name = problem.get_name()\n    initial_step = initial_step_map[name]\n    function = problem.get_function()\n    first_derivative = problem.get_first_derivative()\n    interval = problem.get_interval()\n    test_points = np.linspace(interval[0], interval[1], number_of_test_points)\n    print(f\"Function #{i}, {name}\")\n    method = SteplemanWinarskyMethod(initial_step)\n    average_relative_error, average_feval, _ = nd.benchmark_method(\n        function, first_derivative, test_points, method.compute_first_derivative\n    )\n    average_relative_error_list.append(average_relative_error)\n    average_feval_list.append(average_feval)\n    data.append(\n        (\n            name,\n            initial_step,\n            average_relative_error,\n            average_feval,\n        )\n    )\ndata.append(\n    [\n        \"Average\",\n        \"-\",\n        np.nanmean(average_relative_error_list),\n        np.nanmean(average_feval_list),\n    ]\n)\ntabulate.tabulate(\n    data,\n    headers=[\"Name\", \"h0\", \"Average rel. error\", \"Average func. eval\"],\n    tablefmt=\"html\",\n)"
      ]
    }
  ],
  "metadata": {
    "kernelspec": {
      "display_name": "Python 3",
      "language": "python",
      "name": "python3"
    },
    "language_info": {
      "codemirror_mode": {
        "name": "ipython",
        "version": 3
      },
      "file_extension": ".py",
      "mimetype": "text/x-python",
      "name": "python",
      "nbconvert_exporter": "python",
      "pygments_lexer": "ipython3",
      "version": "3.13.1"
    }
  },
  "nbformat": 4,
  "nbformat_minor": 0
}