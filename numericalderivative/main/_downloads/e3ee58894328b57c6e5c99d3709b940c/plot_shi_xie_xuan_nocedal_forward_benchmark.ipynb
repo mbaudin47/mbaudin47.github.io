{
  "cells": [
    {
      "cell_type": "markdown",
      "metadata": {},
      "source": [
        "\n# Benchmark Shi, Xie, Xuan & Nocedal's forward method\n\nThe goal of this example is to benchmark the :class:`~numericalderivative.ShiXieXuanNocedalForward`\nclass on a collection of test problems.\nThese problems are created by the :meth:`~numericalderivative.build_benchmark()` \nstatic method, which returns a list of problems.\n"
      ]
    },
    {
      "cell_type": "code",
      "execution_count": null,
      "metadata": {
        "collapsed": false
      },
      "outputs": [],
      "source": [
        "import numpy as np\nimport pylab as pl\nimport tabulate\nimport numericalderivative as nd"
      ]
    },
    {
      "cell_type": "markdown",
      "metadata": {},
      "source": [
        "## Compute the first derivative\n\n"
      ]
    },
    {
      "cell_type": "code",
      "execution_count": null,
      "metadata": {
        "collapsed": false
      },
      "outputs": [],
      "source": [
        "class ShiXieXuanNocedalForwardMethod:\n    def __init__(self, relative_precision, initial_step):\n        \"\"\"\n        Create a ShiXieXuanNocedal method to compute the approximate first derivative\n\n        Parameters\n        ----------\n        relative_precision : float, > 0, optional\n            The relative precision of evaluation of f.\n        initial_step : float, > 0\n            The initial step in the algorithm.\n        \"\"\"\n        self.relative_precision = relative_precision\n        self.initial_step = initial_step\n\n    def compute_first_derivative(self, function, x):\n        \"\"\"\n        Compute the first derivative using ShiXieXuanNocedal\n\n        Parameters\n        ----------\n        function : function\n            The function\n        x : float\n            The test point\n\n        Returns\n        -------\n        f_prime_approx : float\n            The approximate value of the first derivative of the function at point x\n        number_of_function_evaluations : int\n            The number of function evaluations.\n        \"\"\"\n        absolute_precision = abs(function(x)) * self.relative_precision\n        algorithm = nd.ShiXieXuanNocedalForward(\n            function,\n            x,\n            absolute_precision,\n        )\n        step, _ = algorithm.find_step(self.initial_step)\n        f_prime_approx = algorithm.compute_first_derivative(step)\n        number_of_function_evaluations = algorithm.get_number_of_function_evaluations()\n        return f_prime_approx, number_of_function_evaluations"
      ]
    },
    {
      "cell_type": "markdown",
      "metadata": {},
      "source": [
        "The next example computes the approximate derivative on the\n:class:`~numericalderivative.ExponentialProblem`.\n\n"
      ]
    },
    {
      "cell_type": "code",
      "execution_count": null,
      "metadata": {
        "collapsed": false
      },
      "outputs": [],
      "source": [
        "initial_step = 1.0e0\nproblem = nd.ExponentialProblem()\nprint(problem)\nfunction = problem.get_function()\nx = problem.get_x()\nalgorithm = nd.ShiXieXuanNocedalForward(\n    function,\n    x,\n    verbose=True,\n)\nsecond_derivative = problem.get_second_derivative()\nsecond_derivative_value = second_derivative(x)\noptimal_step, absolute_error = nd.FirstDerivativeForward.compute_step(\n    second_derivative_value\n)\nprint(\"Exact h* = %.3e\" % (optimal_step))\nfunction = problem.get_function()\nfirst_derivative = problem.get_first_derivative()\nx = 1.0\nrelative_precision = 1.0e-15\nabsolute_precision = abs(function(x)) * relative_precision\nmethod = ShiXieXuanNocedalForwardMethod(absolute_precision, initial_step)\n(\n    f_prime_approx,\n    number_of_function_evaluations,\n) = method.compute_first_derivative(function, x)\nfirst_derivative_value = first_derivative(x)\nabsolute_error = abs(f_prime_approx - first_derivative_value)\nprint(\n    \"x = %.3f, error = %.3e, Func. eval. = %d\"\n    % (x, absolute_error, number_of_function_evaluations)\n)"
      ]
    },
    {
      "cell_type": "markdown",
      "metadata": {},
      "source": [
        "## Perform the benchmark\n\n"
      ]
    },
    {
      "cell_type": "code",
      "execution_count": null,
      "metadata": {
        "collapsed": false
      },
      "outputs": [],
      "source": [
        "print(\"+ Benchmark on several points\")\nnumber_of_test_points = 21  # This number of test points is odd\nproblem = nd.PolynomialProblem()\nprint(problem)\ninterval = problem.get_interval()\nfunction = problem.get_function()\nfirst_derivative = problem.get_first_derivative()\ninitial_step = 1.0e2\ntest_points = np.linspace(interval[0], interval[1], number_of_test_points)\nrelative_precision = 1.0e-15\nabsolute_precision = abs(function(x)) * relative_precision\nmethod = ShiXieXuanNocedalForwardMethod(absolute_precision, initial_step)\naverage_relative_error, average_feval, data = nd.benchmark_method(\n    function,\n    first_derivative,\n    test_points,\n    method.compute_first_derivative,\n    verbose=True,\n)\nprint(\"Average relative error =\", average_relative_error)\nprint(\"Average number of function evaluations =\", average_feval)\ntabulate.tabulate(data, headers=[\"x\", \"Rel. err.\", \"F. Eval.\"], tablefmt=\"html\")"
      ]
    },
    {
      "cell_type": "markdown",
      "metadata": {},
      "source": [
        "Notice that the method does not perform correctly for the point\n$x = 0$ for the polynomial problem.\nThis test point appears only if the number of test points is odd,\nbecause the test interval is symmetric with respect to $x = 0$.\nFor this problem, the method does not perform correctly\nbecause the value of the function is zero at $x = 0$.\nThe method can perform correctly in this case, if it is\nprovided a consistent value of the absolute error of the function\nvalue.\nHere, we compute the absolute error depending on the relative\nerror and the absolute value of the value of the function.\nIf the value of the function is zero, then the computed\nabsolute error is zero, which produces a failure of the method.\n\n"
      ]
    },
    {
      "cell_type": "markdown",
      "metadata": {},
      "source": [
        "Map from the problem name to the initial step.\n\n"
      ]
    },
    {
      "cell_type": "code",
      "execution_count": null,
      "metadata": {
        "collapsed": false
      },
      "outputs": [],
      "source": [
        "initial_step_map = {\n    \"polynomial\": 1.0,\n    \"inverse\": 1.0e0,\n    \"exp\": 1.0e-1,\n    \"log\": 1.0e-3,  # x > 0\n    \"sqrt\": 1.0e-3,  # x > 0\n    \"atan\": 1.0e0,\n    \"sin\": 1.0e0,\n    \"scaled exp\": 1.0e5,\n    \"GMSW\": 1.0e0,\n    \"SXXN1\": 1.0e0,\n    \"SXXN2\": 1.0e0,\n    \"SXXN3\": 1.0e0,\n    \"SXXN4\": 1.0e0,\n    \"Oliver1\": 1.0e0,\n    \"Oliver2\": 1.0e0,\n    \"Oliver3\": 1.0e-3,\n}"
      ]
    },
    {
      "cell_type": "markdown",
      "metadata": {},
      "source": [
        "The next script evaluates a collection of benchmark problems\nusing the :class:`~numericalderivative.ShiXieXuanNocedalForward` class.\n\n"
      ]
    },
    {
      "cell_type": "code",
      "execution_count": null,
      "metadata": {
        "collapsed": false
      },
      "outputs": [],
      "source": [
        "number_of_test_points = 100  # This value can significantly change the results\ndata = []\nfunction_list = nd.build_benchmark()\nnumber_of_functions = len(function_list)\naverage_absolute_error_list = []\naverage_feval_list = []\nrelative_precision = 1.0e-15\ndelta_x = 1.0e-9\nfor i in range(number_of_functions):\n    problem = function_list[i]\n    name = problem.get_name()\n    initial_step = initial_step_map[name]\n    function = problem.get_function()\n    first_derivative = problem.get_first_derivative()\n    interval = problem.get_interval()\n    lower_x_bound, upper_x_bound = problem.get_interval()\n    print(f\"Function #{i}, {name}\")\n    if name == \"sin\":\n        # Change the lower and upper bound so that the points +/-pi\n        # are excluded (see below for details).\n        lower_x_bound += delta_x\n        upper_x_bound -= delta_x\n    test_points = np.linspace(lower_x_bound, upper_x_bound, number_of_test_points)\n    method = ShiXieXuanNocedalForwardMethod(relative_precision, initial_step)\n    average_relative_error, average_feval, _ = nd.benchmark_method(\n        function, first_derivative, test_points, method.compute_first_derivative\n    )\n    average_absolute_error_list.append(average_relative_error)\n    average_feval_list.append(average_feval)\n    data.append(\n        (\n            name,\n            average_relative_error,\n            average_feval,\n        )\n    )\ndata.append(\n    [\n        \"Average\",\n        np.nanmean(average_absolute_error_list),\n        np.nanmean(average_feval_list),\n    ]\n)\ntabulate.tabulate(\n    data,\n    headers=[\"Name\", \"Average rel. error\", \"Average func. eval\"],\n    tablefmt=\"html\",\n)"
      ]
    },
    {
      "cell_type": "markdown",
      "metadata": {},
      "source": [
        "Notice that the method cannot perform correctly for the sin function\nat the point\nIndeed, this function is such that $f''(x) = 0$ if $x = \\pm \\pi$.\nIn this case, the test ratio and the method cannot work.\nTherefore, we make so that the points $\\pm \\pi$ are excluded from the benchmark.\nThe same problem appears at the point $x = 0$.\nThis point is not included in the test set if the number of points is even\n(e.g. with `number_of_test_points = 100`), but it might appear if the\nnumber of test points is odd.\n\n"
      ]
    }
  ],
  "metadata": {
    "kernelspec": {
      "display_name": "Python 3",
      "language": "python",
      "name": "python3"
    },
    "language_info": {
      "codemirror_mode": {
        "name": "ipython",
        "version": 3
      },
      "file_extension": ".py",
      "mimetype": "text/x-python",
      "name": "python",
      "nbconvert_exporter": "python",
      "pygments_lexer": "ipython3",
      "version": "3.13.1"
    }
  },
  "nbformat": 4,
  "nbformat_minor": 0
}