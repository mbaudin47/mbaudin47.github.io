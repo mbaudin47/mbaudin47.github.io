{
  "cells": [
    {
      "cell_type": "markdown",
      "metadata": {},
      "source": [
        "\n# Experiments with Dumontet & Vignes method\n\n## References\n- Dumontet, J., & Vignes, J. (1977). D\u00e9termination du pas optimal dans le calcul des d\u00e9riv\u00e9es sur ordinateur. RAIRO. Analyse num\u00e9rique, 11 (1), 13-25.\n"
      ]
    },
    {
      "cell_type": "code",
      "execution_count": null,
      "metadata": {
        "collapsed": false
      },
      "outputs": [],
      "source": [
        "import numpy as np\nimport pylab as pl\nimport numericalderivative as nd\nimport sys"
      ]
    },
    {
      "cell_type": "code",
      "execution_count": null,
      "metadata": {
        "collapsed": false
      },
      "outputs": [],
      "source": [
        "def compute_ell(function, x, k, relative_precision):\n    algorithm = nd.DumontetVignes(function, x, relative_precision=relative_precision)\n    ell = algorithm.compute_ell(k)\n    return ell\n\n\ndef compute_f3_inf_sup(function, x, k, relative_precision):\n    algorithm = nd.DumontetVignes(function, x, relative_precision=relative_precision)\n    ell, f3inf, f3sup = algorithm.compute_ell(k)\n    return f3inf, f3sup\n\n\ndef perform(\n    x,\n    name,\n    function,\n    function_derivative,\n    function_third_derivative,\n    h_array,\n    iteration_maximum=53,\n    relative_precision=1.0e-15,\n    kmin=None,\n    kmax=None,\n):\n    print(\"+ \", name)\n    # 1. Plot the error vs h\n    algorithm = nd.DumontetVignes(function, x, verbose=True)\n    error_array = np.zeros((number_of_points))\n    for i in range(number_of_points):\n        f_prime_approx = algorithm.compute_first_derivative(h_array[i])\n        error_array[i] = abs(f_prime_approx - function_derivative(x))\n\n    # 2. Algorithm to detect h*\n    algorithm = nd.DumontetVignes(function, x, relative_precision=relative_precision)\n    print(\"Exact f'''(x) = %.3e\" % (function_third_derivative(x)))\n    estim_step, number_of_iterations = algorithm.compute_step(\n        iteration_maximum=iteration_maximum,\n        markdown=False,\n        kmin=kmin,\n        kmax=kmax,\n    )\n    fprime = algorithm.compute_first_derivative(estim_step)\n    number_of_function_evaluations = algorithm.get_number_of_function_evaluations()\n    print(\"Function evaluations =\", number_of_function_evaluations)\n    print(\"Estim. derivative = %.3e\" % (fprime))\n    print(\"Exact. derivative = %.3e\" % (function_derivative(x)))\n    f_prime_approx = algorithm.compute_first_derivative(estim_step)\n    absolute_error = abs(f_prime_approx - function_derivative(x))\n    print(\"Exact abs. error  = %.3e\" % (absolute_error))\n    print(\"Exact rel. error  = %.3e\" % (absolute_error / abs(function_derivative(x))))\n    # Compute exact step\n    absolute_precision = abs(function(x) * relative_precision)\n    fdstep = nd.FiniteDifferenceOptimalStep(absolute_precision)\n    third_derivative_value = function_third_derivative(x)\n    optimal_step, optimal_error = fdstep.compute_step_first_derivative_central(\n        third_derivative_value\n    )\n    print(\"Exact step     = %.3e\" % (optimal_step))\n    print(\"Estimated step = %.3e\" % (estim_step))\n    print(\"Optimal abs. error = %.3e\" % (optimal_error))\n    print(\"Optimal rel. error = %.3e\" % (optimal_error / abs(function_derivative(x))))\n\n    minimum_error = np.nanmin(error_array)\n    maximum_error = np.nanmax(error_array)\n\n    pl.figure(figsize=(3.0, 2.0))\n    pl.plot(h_array, error_array)\n    pl.plot(\n        [estim_step] * 2, [minimum_error, maximum_error], \"--\", label=r\"$\\tilde{h}$\"\n    )\n    pl.plot(optimal_step, optimal_error, \"o\", label=r\"$h^\\star$\")\n    pl.title(\"Finite difference for %s\" % (name))\n    pl.xlabel(\"h\")\n    pl.ylabel(\"Error\")\n    pl.xscale(\"log\")\n    pl.legend(bbox_to_anchor=(1.1, 1.0))\n    pl.yscale(\"log\")\n    return"
      ]
    },
    {
      "cell_type": "code",
      "execution_count": null,
      "metadata": {
        "collapsed": false
      },
      "outputs": [],
      "source": [
        "def plot_ell_ratio(\n    name,\n    function,\n    x,\n    number_of_points,\n    number_of_digits,\n    relative_precision,\n    kmin=None,\n    kmax=None,\n    y_logscale=False,\n    plot_L_constants=False,\n):\n    ell_1 = 1.0 / 15.0  # Eq. 34, fixed\n    ell_2 = 1.0 / 2.0\n    ell_3 = 1.0 / ell_2\n    ell_4 = 1.0 / ell_1\n\n    if kmin is None:\n        print(\"Set default kmin\")\n        kmin = x * 2 ** (-number_of_digits + 1)  # Eq. 26\n    if kmax is None:\n        print(\"Set default kmax\")\n        kmax = x * 2 ** (number_of_digits - 1)\n    k_array = np.logspace(np.log10(kmin), np.log10(kmax), number_of_points)\n    ell_array = np.zeros((number_of_points))\n    for i in range(number_of_points):\n        ell_array[i], f3inf, f3sup = compute_ell(\n            function, x, k_array[i], relative_precision\n        )\n\n    pl.figure(figsize=(4.0, 3.0))\n    pl.plot(k_array, ell_array)\n    if plot_L_constants:\n        indices = np.isfinite(ell_array)\n        maximum_finite_ell = np.max(ell_array[indices])\n        print(\"Maximum L = %.3e\" % (maximum_finite_ell))\n        if maximum_finite_ell < 1.0:\n            pl.plot(k_array, [ell_1] * number_of_points, \"--\", label=\"$L_1$\")\n            pl.plot(k_array, [ell_2] * number_of_points, \":\", label=\"$L_2$\")\n        else:\n            pl.plot(k_array, [ell_3] * number_of_points, \":\", label=\"$L_3$\")\n            pl.plot(k_array, [ell_4] * number_of_points, \"--\", label=\"$L_4$\")\n        pl.legend()\n    pl.title(\"%s, x = %.3e, p = %.3e\" % (name, x, relative_precision))\n    pl.xlabel(\"k\")\n    pl.ylabel(\"L\")\n    pl.xscale(\"log\")\n    if y_logscale:\n        pl.yscale(\"log\")\n    return"
      ]
    },
    {
      "cell_type": "markdown",
      "metadata": {},
      "source": [
        "1. Exponential\n\n"
      ]
    },
    {
      "cell_type": "code",
      "execution_count": null,
      "metadata": {
        "collapsed": false
      },
      "outputs": [],
      "source": [
        "number_of_points = 1000\nrelative_precision = 1.0e-15\nx = 1.0\nfunction = nd.ExponentialProblem().get_function()\nname = \"exp\"\nnumber_of_digits = 53\nkmin = 1.55e-5\nkmax = 1.0e-4\nplot_ell_ratio(\n    name,\n    function,\n    x,\n    number_of_points,\n    number_of_digits,\n    relative_precision,\n    kmin=kmin,\n    kmax=kmax,\n    plot_L_constants=True,\n)"
      ]
    },
    {
      "cell_type": "code",
      "execution_count": null,
      "metadata": {
        "collapsed": false
      },
      "outputs": [],
      "source": [
        "relative_precision = 1.0e-10\nx = 1.0\nfunction = nd.ExponentialProblem().get_function()\nname = \"exp\"\nnumber_of_digits = 53\nkmin = 5.0e-5\nkmax = 1.0e-2\nplot_ell_ratio(\n    name,\n    function,\n    x,\n    number_of_points,\n    number_of_digits,\n    relative_precision,\n    kmin=kmin,\n    kmax=kmax,\n    y_logscale=False,\n    plot_L_constants=True,\n)\npl.ylim(-20.0, 20.0)"
      ]
    },
    {
      "cell_type": "code",
      "execution_count": null,
      "metadata": {
        "collapsed": false
      },
      "outputs": [],
      "source": [
        "relative_precision = 1.0e-14\nx = 1.0\nfunction = nd.ExponentialProblem().get_function()\nname = \"exp\"\nnumber_of_digits = 53\nkmin = 4.0e-5\nkmax = 1.0e-2\nplot_ell_ratio(\n    name,\n    function,\n    x,\n    number_of_points,\n    number_of_digits,\n    relative_precision,\n    kmin=kmin,\n    kmax=kmax,\n)"
      ]
    },
    {
      "cell_type": "code",
      "execution_count": null,
      "metadata": {
        "collapsed": false
      },
      "outputs": [],
      "source": [
        "relative_precision = 1.0e-16\nx = 4.0\nfunction = nd.ExponentialProblem().get_function()\nname = \"exp\"\nnumber_of_digits = 53\nkmin = 1.0e-5\nkmax = 1.0e-2\nplot_ell_ratio(\n    name,\n    function,\n    x,\n    number_of_points,\n    number_of_digits,\n    relative_precision,\n    kmin=kmin,\n    kmax=kmax,\n)"
      ]
    },
    {
      "cell_type": "code",
      "execution_count": null,
      "metadata": {
        "collapsed": false
      },
      "outputs": [],
      "source": [
        "relative_precision = 1.0e-14\nx = 4.0\nfunction = nd.ExponentialProblem().get_function()\nname = \"exp\"\nnumber_of_digits = 53\nkmin = 3.2e-5\nkmax = 1.0e-2\nplot_ell_ratio(\n    name,\n    function,\n    x,\n    number_of_points,\n    number_of_digits,\n    relative_precision,\n    kmin=kmin,\n    kmax=kmax,\n    y_logscale=False,\n    plot_L_constants=True,\n)\npl.ylim(-20.0, 20.0)"
      ]
    },
    {
      "cell_type": "code",
      "execution_count": null,
      "metadata": {
        "collapsed": false
      },
      "outputs": [],
      "source": [
        "x = 4.0\nbenchmark = nd.ExponentialProblem()\nfunction = benchmark.get_function()\nabsolute_precision = sys.float_info.epsilon * function(x)\nprint(\"absolute_precision = %.3e\" % (absolute_precision))"
      ]
    },
    {
      "cell_type": "code",
      "execution_count": null,
      "metadata": {
        "collapsed": false
      },
      "outputs": [],
      "source": [
        "x = 4.1\nfunction = benchmark.get_function()\nrelative_precision = sys.float_info.epsilon\nname = \"exp\"\nfunction_derivative = benchmark.get_first_derivative()\nfunction_third_derivative = benchmark.get_third_derivative()\nnumber_of_points = 1000\nh_array = np.logspace(-15.0, 0.0, number_of_points)\nkmin = 1.0e-5\nkmax = 1.0e-2\nperform(\n    x,\n    name,\n    function,\n    function_derivative,\n    function_third_derivative,\n    h_array,\n    iteration_maximum=20,\n    relative_precision=1.0e-15,\n    kmin=kmin,\n    kmax=kmax,\n)"
      ]
    },
    {
      "cell_type": "markdown",
      "metadata": {},
      "source": [
        "2. Scaled exponential\n\n"
      ]
    },
    {
      "cell_type": "code",
      "execution_count": null,
      "metadata": {
        "collapsed": false
      },
      "outputs": [],
      "source": [
        "x = 1.0\nrelative_precision = 1.0e-14\nfunction = nd.ScaledExponentialProblem().get_function()\nname = \"scaled exp\"\nnumber_of_digits = 53\nkmin = 1.0e-1\nkmax = 1.0e2\nplot_ell_ratio(\n    name,\n    function,\n    x,\n    number_of_points,\n    number_of_digits,\n    relative_precision,\n    kmin=kmin,\n    kmax=kmax,\n    plot_L_constants=True,\n)"
      ]
    },
    {
      "cell_type": "code",
      "execution_count": null,
      "metadata": {
        "collapsed": false
      },
      "outputs": [],
      "source": [
        "x = 1.0\nname = \"scaled exp\"\nbenchmark = nd.ScaledExponentialProblem()\nfunction = benchmark.function\nfunction_derivative = benchmark.first_derivative\nfunction_third_derivative = benchmark.third_derivative\nnumber_of_points = 1000\nh_array = np.logspace(-7.0, 6.0, number_of_points)\nkmin = 1.0e-2\nkmax = 1.0e2\nrelative_precision = 1.0e-15\nperform(\n    x,\n    name,\n    function,\n    function_derivative,\n    function_third_derivative,\n    h_array,\n    relative_precision=relative_precision,\n    kmin=kmin,\n    kmax=kmax,\n)"
      ]
    },
    {
      "cell_type": "code",
      "execution_count": null,
      "metadata": {
        "collapsed": false
      },
      "outputs": [],
      "source": [
        "print(\"+ 3. Square root\")\n\nx = 1.0\nrelative_precision = 1.0e-14\nfunction = nd.SquareRootProblem().get_function()\nname = \"square root\"\nnumber_of_digits = 53\nkmin = 4.3e-5\nkmax = 1.0e-4\nplot_ell_ratio(\n    name,\n    function,\n    x,\n    number_of_points,\n    number_of_digits,\n    relative_precision,\n    kmin=kmin,\n    kmax=kmax,\n    plot_L_constants=True,\n)\npl.ylim(-20.0, 20.0)"
      ]
    },
    {
      "cell_type": "code",
      "execution_count": null,
      "metadata": {
        "collapsed": false
      },
      "outputs": [],
      "source": [
        "x = 1.0\nk = 1.0e-3\nprint(\"x = \", x)\nprint(\"k = \", k)\nbenchmark = nd.SquareRootProblem()\nfinite_difference = nd.FiniteDifferenceFormula(benchmark.function, x)\napprox_f3d = finite_difference.compute_third_derivative(k)\nprint(\"Approx. f''(x) = \", approx_f3d)\nexact_f3d = benchmark.third_derivative(x)\nprint(\"Exact f''(x) = \", exact_f3d)"
      ]
    },
    {
      "cell_type": "code",
      "execution_count": null,
      "metadata": {
        "collapsed": false
      },
      "outputs": [],
      "source": [
        "relative_precision = 1.0e-14\nprint(\"relative_precision = \", relative_precision)\nf3inf, f3sup = compute_f3_inf_sup(benchmark.function, x, k, relative_precision)\nprint(\"f3inf = \", f3inf)\nprint(\"f3sup = \", f3sup)"
      ]
    },
    {
      "cell_type": "code",
      "execution_count": null,
      "metadata": {
        "collapsed": false
      },
      "outputs": [],
      "source": [
        "number_of_points = 1000\nk_array = np.logspace(-6.0, -1.0, number_of_points)\nerror_array = np.zeros((number_of_points))\nfor i in range(number_of_points):\n    algorithm = nd.FiniteDifferenceFormula(benchmark.function, x)\n    f2nde_approx = algorithm.compute_third_derivative(k_array[i])\n    error_array[i] = abs(f2nde_approx - benchmark.third_derivative(x))"
      ]
    },
    {
      "cell_type": "code",
      "execution_count": null,
      "metadata": {
        "collapsed": false
      },
      "outputs": [],
      "source": [
        "pl.figure(figsize=(3.0, 2.0))\npl.plot(k_array, error_array)\npl.title(\"Finite difference of 3de derivative for %s\" % (name))\npl.xlabel(\"k\")\npl.ylabel(\"Error\")\npl.xscale(\"log\")\npl.yscale(\"log\")"
      ]
    },
    {
      "cell_type": "code",
      "execution_count": null,
      "metadata": {
        "collapsed": false
      },
      "outputs": [],
      "source": [
        "number_of_points = 1000\nrelative_precision = 1.0e-16\nk_array = np.logspace(-4.9, -4.0, number_of_points)\nf3_array = np.zeros((number_of_points, 3))\nfunction = benchmark.get_function()\nfor i in range(number_of_points):\n    f3inf, f3sup = compute_f3_inf_sup(function, x, k_array[i], relative_precision)\n    algorithm = nd.FiniteDifferenceFormula(function, x)\n    f3_approx = algorithm.compute_third_derivative(k_array[i])\n    f3_array[i] = [f3inf, f3_approx, f3sup]\n\npl.figure(figsize=(3.0, 2.0))\npl.plot(k_array, f3_array[:, 0], \":\", label=\"f3inf\")\npl.plot(k_array, f3_array[:, 1], \"-\", label=\"$D^{(3)}_f$\")\npl.plot(k_array, f3_array[:, 2], \":\", label=\"f3sup\")\npl.title(\"Finite difference of 3de derivative for %s\" % (name))\npl.xlabel(\"k\")\npl.xscale(\"log\")\npl.yscale(\"log\")\npl.legend()"
      ]
    },
    {
      "cell_type": "code",
      "execution_count": null,
      "metadata": {
        "collapsed": false
      },
      "outputs": [],
      "source": [
        "x = 1.0e-2\nrelative_precision = 1.0e-14\nfunction = benchmark.get_function()\nname = \"square root\"\nnumber_of_digits = 53\nkmin = 4.4e-7\nkmax = 1.0e-4\nplot_ell_ratio(\n    name,\n    function,\n    x,\n    number_of_points,\n    number_of_digits,\n    relative_precision,\n    kmin=kmin,\n    kmax=kmax,\n    plot_L_constants=True,\n)\npl.ylim(-20.0, 20.0)"
      ]
    },
    {
      "cell_type": "markdown",
      "metadata": {},
      "source": [
        "Search step\n\n"
      ]
    },
    {
      "cell_type": "code",
      "execution_count": null,
      "metadata": {
        "collapsed": false
      },
      "outputs": [],
      "source": [
        "x = 1.0e-2\nrelative_precision = 1.0e-14\nkmin = 1.0e-8\nkmax = 1.0e-3\nverbose = True\nfunction = benchmark.get_function()\nalgorithm = nd.DumontetVignes(\n    function, x, relative_precision=relative_precision, verbose=verbose\n)\nh_optimal, _ = algorithm.compute_step(kmax=kmax)\nprint(\"h optimal = %.3e\" % (h_optimal))\nnumber_of_feval = algorithm.get_number_of_function_evaluations()\nprint(f\"number_of_feval = {number_of_feval}\")\nf_prime_approx = algorithm.compute_first_derivative(h_optimal)\nfeval = algorithm.get_number_of_function_evaluations()\nfirst_derivative = benchmark.get_first_derivative()\nabsolute_error = abs(f_prime_approx - first_derivative(x))\nprint(\"Abs. error = %.3e\" % (absolute_error))\n\nell_kmin, f3inf, f3sup = algorithm.compute_ell(kmin)\nprint(\"L(kmin) = \", ell_kmin)\nell_kmax, f3inf, f3sup = algorithm.compute_ell(kmax)\nprint(\"L(kmax) = \", ell_kmax)"
      ]
    },
    {
      "cell_type": "code",
      "execution_count": null,
      "metadata": {
        "collapsed": false
      },
      "outputs": [],
      "source": [
        "print(\"+ 4. sin\")\nx = 1.0\nrelative_precision = 1.0e-14\nbenchmark = nd.SinProblem()\nfunction = benchmark.function\nname = \"sin\"\nnumber_of_digits = 53\nkmin = 1.0e-5\nkmax = 1.0e-3\nplot_ell_ratio(\n    name,\n    function,\n    x,\n    number_of_points,\n    number_of_digits,\n    relative_precision,\n    kmin=kmin,\n    kmax=kmax,\n    plot_L_constants=True,\n)"
      ]
    },
    {
      "cell_type": "code",
      "execution_count": null,
      "metadata": {
        "collapsed": false
      },
      "outputs": [],
      "source": [
        "x = 1.0\nk = 1.0e-3\nprint(\"x = \", x)\nprint(\"k = \", k)\nalgorithm = nd.FiniteDifferenceFormula(benchmark.function, x)\napprox_f3d = algorithm.compute_third_derivative(k)\nprint(\"Approx. f''(x) = \", approx_f3d)\nexact_f3d = benchmark.third_derivative(x)\nprint(\"Exact f''(x) = \", exact_f3d)\n\nrelative_precision = 1.0e-14\nprint(\"relative_precision = \", relative_precision)\nf3inf, f3sup = compute_f3_inf_sup(benchmark.function, x, k, relative_precision)\nprint(\"f3inf = \", f3inf)\nprint(\"f3sup = \", f3sup)"
      ]
    }
  ],
  "metadata": {
    "kernelspec": {
      "display_name": "Python 3",
      "language": "python",
      "name": "python3"
    },
    "language_info": {
      "codemirror_mode": {
        "name": "ipython",
        "version": 3
      },
      "file_extension": ".py",
      "mimetype": "text/x-python",
      "name": "python",
      "nbconvert_exporter": "python",
      "pygments_lexer": "ipython3",
      "version": "3.13.0"
    }
  },
  "nbformat": 4,
  "nbformat_minor": 0
}