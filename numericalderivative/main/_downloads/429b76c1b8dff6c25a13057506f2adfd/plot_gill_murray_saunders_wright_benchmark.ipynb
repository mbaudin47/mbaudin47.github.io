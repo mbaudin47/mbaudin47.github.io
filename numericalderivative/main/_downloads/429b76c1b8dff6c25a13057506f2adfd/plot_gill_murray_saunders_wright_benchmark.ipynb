{
  "cells": [
    {
      "cell_type": "markdown",
      "metadata": {},
      "source": [
        "\n# Benchmark Gill, Murray, Saunders and Wright method\n\nFind a step which is near to optimal for a centered finite difference \nformula.\n\n## References\n- Gill, P. E., Murray, W., Saunders, M. A., & Wright, M. H. (1983). Computing forward-difference intervals for numerical optimization. SIAM Journal on Scientific and Statistical Computing, 4(2), 310-321.\n"
      ]
    },
    {
      "cell_type": "code",
      "execution_count": null,
      "metadata": {
        "collapsed": false
      },
      "outputs": [],
      "source": [
        "import numpy as np\nimport pylab as pl\nimport tabulate\nimport numericalderivative as nd"
      ]
    },
    {
      "cell_type": "code",
      "execution_count": null,
      "metadata": {
        "collapsed": false
      },
      "outputs": [],
      "source": [
        "def benchmark_GMSW_method(\n    function, derivative_function, test_points, kmin, kmax, verbose=False\n):\n    \"\"\"\n    Apply Stepleman & Winarsky method to compute the approximate first\n    derivative using finite difference formula.\n\n    Parameters\n    ----------\n    function : function\n        The function.\n    derivative_function : function\n        The exact first derivative of the function\n    test_points : list(float)\n        The list of x points where the benchmark must be performed.\n    verbose : bool, optional\n        Set to True to print intermediate messages. The default is False.\n\n    Returns\n    -------\n    average_relative_error : float, > 0\n        The average relative error between the approximate first derivative\n        and the true first derivative.\n    feval : int\n        The number of function evaluations.\n\n    \"\"\"\n    number_of_test_points = len(test_points)\n    relative_error_array = np.zeros(number_of_test_points)\n    feval_array = np.zeros(number_of_test_points)\n    for i in range(number_of_test_points):\n        x = test_points[i]\n        if verbose:\n            print(f\"x = {x:.3f}\")\n        try:\n            algorithm = nd.GillMurraySaundersWright(function, x, verbose=verbose)\n            step, _ = algorithm.compute_step(kmin, kmax)\n            f_prime_approx = algorithm.compute_first_derivative(step)\n            number_of_function_evaluations = (\n                algorithm.get_number_of_function_evaluations()\n            )\n            absolute_error = abs(f_prime_approx - derivative_function(x))\n            relative_error = absolute_error / abs(derivative_function(x))\n        except:\n            number_of_function_evaluations = np.nan\n            relative_error = np.nan\n        if verbose:\n            print(\n                \"x = %.3f, abs. error = %.3e, rel. error = %.3e, Func. eval. = %d\"\n                % (x, absolute_error, relative_error, number_of_function_evaluations)\n            )\n        relative_error_array[i] = relative_error\n        feval_array[i] = number_of_function_evaluations\n\n    average_relative_error = np.mean(relative_error_array)\n    average_feval = np.mean(feval_array)\n    if verbose:\n        print(\"Average error =\", average_relative_error)\n        print(\"Average number of function evaluations =\", average_feval)\n    return average_relative_error, average_feval"
      ]
    },
    {
      "cell_type": "code",
      "execution_count": null,
      "metadata": {
        "collapsed": false
      },
      "outputs": [],
      "source": [
        "print(\"+ Benchmark on several points\")\nnumber_of_test_points = 100\ntest_points = np.linspace(0.01, 12.2, number_of_test_points)\nkmin = 1.0e-16\nkmax = 1.0e-1\nbenchmark = nd.ExponentialProblem()\naverage_relative_error, average_feval = benchmark_GMSW_method(\n    benchmark.function, benchmark.first_derivative, test_points, kmin, kmax, True\n)"
      ]
    },
    {
      "cell_type": "markdown",
      "metadata": {},
      "source": [
        "Map from the problem name to kmax\n\n"
      ]
    },
    {
      "cell_type": "code",
      "execution_count": null,
      "metadata": {
        "collapsed": false
      },
      "outputs": [],
      "source": [
        "kmax_map = {\n    \"polynomial\": 1.0,\n    \"inverse\": 1.0e0,\n    \"exp\": 1.0e-1,\n    \"log\": 1.0e-3,  # x > 0\n    \"sqrt\": 1.0e-3,  # x > 0\n    \"atan\": 1.0e0,\n    \"sin\": 1.0e0,\n    \"scaled exp\": 1.0e5,\n    \"GMSW\": 1.0e0,\n    \"SXXN1\": 1.0e0,\n    \"SXXN2\": 1.0e0,  # Fails\n    \"SXXN3\": 1.0e0,\n    \"SXXN4\": 1.0e0,\n    \"Oliver1\": 1.0e0,\n    \"Oliver2\": 1.0e0,\n    \"Oliver3\": 1.0e-3,\n}"
      ]
    },
    {
      "cell_type": "markdown",
      "metadata": {},
      "source": [
        "Benchmark GillMurraySaundersWright\n\n"
      ]
    },
    {
      "cell_type": "code",
      "execution_count": null,
      "metadata": {
        "collapsed": false
      },
      "outputs": [],
      "source": [
        "number_of_test_points = 100\ndata = []\nfunction_list = nd.BuildBenchmark()\nnumber_of_functions = len(function_list)\naverage_relative_error_list = []\naverage_feval_list = []\nfor i in range(number_of_functions):\n    problem = function_list[i]\n    function = problem.get_function()\n    first_derivative = problem.get_first_derivative()\n    name = problem.get_name()\n    kmax = kmax_map[name]\n    kmin = 1.0e-16 * kmax\n    interval = problem.get_interval()\n    test_points = np.linspace(interval[0], interval[1], number_of_test_points)\n    print(f\"Function #{i}, {name}\")\n    average_relative_error, average_feval = benchmark_GMSW_method(\n        function,\n        first_derivative,\n        test_points,\n        kmin,\n        kmax,\n    )\n    average_relative_error_list.append(average_relative_error)\n    average_feval_list.append(average_feval)\n    data.append(\n        (\n            name,\n            kmin,\n            kmax,\n            average_relative_error,\n            average_feval,\n        )\n    )\ndata.append(\n    [\n        \"Average\",\n        \"-\",\n        \"-\",\n        np.nanmean(average_relative_error_list),\n        np.nanmean(average_feval_list),\n    ]\n)\ntabulate.tabulate(\n    data,\n    headers=[\"Name\", \"kmin\", \"kmax\", \"Average error\", \"Average func. eval\"],\n    tablefmt=\"html\",\n)"
      ]
    }
  ],
  "metadata": {
    "kernelspec": {
      "display_name": "Python 3",
      "language": "python",
      "name": "python3"
    },
    "language_info": {
      "codemirror_mode": {
        "name": "ipython",
        "version": 3
      },
      "file_extension": ".py",
      "mimetype": "text/x-python",
      "name": "python",
      "nbconvert_exporter": "python",
      "pygments_lexer": "ipython3",
      "version": "3.13.1"
    }
  },
  "nbformat": 4,
  "nbformat_minor": 0
}