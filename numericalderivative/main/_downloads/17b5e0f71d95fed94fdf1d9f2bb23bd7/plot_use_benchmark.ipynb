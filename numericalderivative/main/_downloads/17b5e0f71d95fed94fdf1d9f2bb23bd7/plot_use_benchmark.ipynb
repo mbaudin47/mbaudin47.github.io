{
  "cells": [
    {
      "cell_type": "markdown",
      "metadata": {},
      "source": [
        "\n# Use the benchmark problems\n\nThis example shows how to use a single benchmark problem or \nall the problems.\n"
      ]
    },
    {
      "cell_type": "code",
      "execution_count": null,
      "metadata": {
        "collapsed": false
      },
      "outputs": [],
      "source": [
        "import tabulate\nimport numericalderivative as nd\nimport math\nimport pylab as pl\nimport numpy as np"
      ]
    },
    {
      "cell_type": "markdown",
      "metadata": {},
      "source": [
        "First, we create an use a single problem.\nWe create the problem and get the function and its\nfirst derivative.\nPrinting the object evaluates the function and its\nderivatives at the test point.\n\n"
      ]
    },
    {
      "cell_type": "code",
      "execution_count": null,
      "metadata": {
        "collapsed": false
      },
      "outputs": [],
      "source": [
        "problem = nd.ExponentialProblem()\nprint(problem)"
      ]
    },
    {
      "cell_type": "markdown",
      "metadata": {},
      "source": [
        "We can also use the pretty-print.\n\n"
      ]
    },
    {
      "cell_type": "code",
      "execution_count": null,
      "metadata": {
        "collapsed": false
      },
      "outputs": [],
      "source": [
        "problem"
      ]
    },
    {
      "cell_type": "markdown",
      "metadata": {},
      "source": [
        "Get the data from the problem\n\n"
      ]
    },
    {
      "cell_type": "code",
      "execution_count": null,
      "metadata": {
        "collapsed": false
      },
      "outputs": [],
      "source": [
        "x = problem.get_x()\nfunction = problem.get_function()\nfirst_derivative = problem.get_first_derivative()"
      ]
    },
    {
      "cell_type": "markdown",
      "metadata": {},
      "source": [
        "Then we use a finite difference formula and compare it to the\nexact derivative.\n\n"
      ]
    },
    {
      "cell_type": "code",
      "execution_count": null,
      "metadata": {
        "collapsed": false
      },
      "outputs": [],
      "source": [
        "formula = nd.FirstDerivativeForward(function, x)\nstep = 1.0e-5  # This is a first guess\napprox_first_derivative = formula.compute(step)\nexact_first_derivative = first_derivative(x)\nabsolute_error = abs(approx_first_derivative - exact_first_derivative)\nprint(f\"Approximate first derivative = {approx_first_derivative}\")\nprint(f\"Exact first derivative = {exact_first_derivative}\")\nprint(f\"Absolute error = {absolute_error}\")"
      ]
    },
    {
      "cell_type": "markdown",
      "metadata": {},
      "source": [
        "The problem is that the optimal step might not be the exact one.\nThe optimal step can be computed using the second derivative, which is\nknown in this problem.\n\n"
      ]
    },
    {
      "cell_type": "code",
      "execution_count": null,
      "metadata": {
        "collapsed": false
      },
      "outputs": [],
      "source": [
        "second_derivative = problem.get_second_derivative()\nsecond_derivative_value = second_derivative(x)\noptimal_step_forward_formula, absolute_error = nd.FirstDerivativeForward.compute_step(\n    second_derivative_value\n)\nprint(f\"Optimal step for forward derivative = {optimal_step_forward_formula}\")\nprint(f\"Minimum absolute error = {absolute_error}\")"
      ]
    },
    {
      "cell_type": "markdown",
      "metadata": {},
      "source": [
        "Now use this step\n\n"
      ]
    },
    {
      "cell_type": "code",
      "execution_count": null,
      "metadata": {
        "collapsed": false
      },
      "outputs": [],
      "source": [
        "approx_first_derivative = formula.compute(optimal_step_forward_formula)\nexact_first_derivative = first_derivative(x)\nabsolute_error = abs(approx_first_derivative - exact_first_derivative)\nprint(f\"Approximate first derivative = {approx_first_derivative}\")\nprint(f\"Exact first derivative = {exact_first_derivative}\")\nprint(f\"Absolute error = {absolute_error}\")"
      ]
    },
    {
      "cell_type": "markdown",
      "metadata": {},
      "source": [
        "We can use a collection of benchmark problems.\n\n"
      ]
    },
    {
      "cell_type": "code",
      "execution_count": null,
      "metadata": {
        "collapsed": false
      },
      "outputs": [],
      "source": [
        "benchmark = nd.build_benchmark()\nnumber_of_problems = len(benchmark)\ndata = []\nfor i in range(number_of_problems):\n    problem = benchmark[i]\n    name = problem.get_name()\n    x = problem.get_x()\n    interval = problem.get_interval()\n    data.append(\n        [\n            f\"#{i} / {number_of_problems}\",\n            f\"{name}\",\n            f\"{x}\",\n            f\"{interval[0]}\",\n            f\"{interval[1]}\",\n        ]\n    )\n\ntabulate.tabulate(\n    data,\n    headers=[\"Index\", \"Name\", \"x\", \"xmin\", \"xmax\"],\n    tablefmt=\"html\",\n)"
      ]
    },
    {
      "cell_type": "markdown",
      "metadata": {},
      "source": [
        "Print each benchmark problems.\n\n"
      ]
    },
    {
      "cell_type": "code",
      "execution_count": null,
      "metadata": {
        "collapsed": false
      },
      "outputs": [],
      "source": [
        "benchmark = nd.build_benchmark()\nnumber_of_problems = len(benchmark)\nfor i in range(number_of_problems):\n    problem = benchmark[i]\n    print(problem)"
      ]
    },
    {
      "cell_type": "markdown",
      "metadata": {},
      "source": [
        "Plot the benchmark problems.\n\n"
      ]
    },
    {
      "cell_type": "code",
      "execution_count": null,
      "metadata": {
        "collapsed": false
      },
      "outputs": [],
      "source": [
        "benchmark = nd.build_benchmark()\nnumber_of_problems = len(benchmark)\nnumber_of_columns = 3\nnumber_of_rows = math.ceil(number_of_problems / number_of_columns)\nnumber_of_points = 100\npl.figure(figsize=(8.0, 7.0))\ndata = []\nindex = 1\nfor i in range(number_of_problems):\n    problem = benchmark[i]\n    name = problem.get_name()\n    print(f\"Plot #{i}: {name}\")\n    x = problem.get_x()\n    interval = problem.get_interval()\n    function = problem.get_function()\n    pl.subplot(number_of_rows, number_of_columns, index)\n    x_grid = np.linspace(interval[0], interval[1], number_of_points)\n    y_values = function(x_grid)\n    pl.title(f\"{name}\")\n    pl.plot(x_grid, y_values)\n    # Update index\n    index += 1\n\npl.subplots_adjust(wspace=0.5, hspace=1.2)"
      ]
    }
  ],
  "metadata": {
    "kernelspec": {
      "display_name": "Python 3",
      "language": "python",
      "name": "python3"
    },
    "language_info": {
      "codemirror_mode": {
        "name": "ipython",
        "version": 3
      },
      "file_extension": ".py",
      "mimetype": "text/x-python",
      "name": "python",
      "nbconvert_exporter": "python",
      "pygments_lexer": "ipython3",
      "version": "3.13.2"
    }
  },
  "nbformat": 4,
  "nbformat_minor": 0
}